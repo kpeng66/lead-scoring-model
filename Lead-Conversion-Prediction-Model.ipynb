{
 "cells": [
  {
   "cell_type": "code",
   "execution_count": 1,
   "id": "69ef5a95",
   "metadata": {},
   "outputs": [],
   "source": [
    "import requests\n",
    "\n",
    "import boto3\n",
    "import mlflow\n",
    "from mlflow import pyfunc as ml_pyfunc\n",
    "import pandas as pd\n",
    "from sklearn.ensemble import RandomForestClassifier\n",
    "from sklearn.model_selection import train_test_split\n",
    "from sklearn.preprocessing import StandardScaler\n",
    "from sklearn import metrics"
   ]
  },
  {
   "cell_type": "code",
   "execution_count": 2,
   "id": "f9523f95",
   "metadata": {},
   "outputs": [],
   "source": [
    "leads_dataset = pd.read_csv('/Users/kevinpeng/Downloads/archive/leads.csv')\n",
    "leads_dataset.columns = map(str.lower, leads_dataset.columns)"
   ]
  },
  {
   "cell_type": "code",
   "execution_count": 3,
   "id": "da0c0e43",
   "metadata": {},
   "outputs": [],
   "source": [
    "leads_categorical_columns = ['lead origin',\n",
    "                             'lead source',\n",
    "                             'last activity',\n",
    "                             'specialization',\n",
    "                             'what is your current occupation',\n",
    "                             'what matters most to you in choosing a course',\n",
    "                             'city',\n",
    "                             'last notable activity']\n",
    "\n",
    "leads_numeric_columns = ['totalvisits',\n",
    "                         'total time spent on website',\n",
    "                         'page views per visit']\n",
    "\n",
    "leads_response_columns = ['converted']"
   ]
  },
  {
   "cell_type": "code",
   "execution_count": 4,
   "id": "1b7df07d",
   "metadata": {},
   "outputs": [],
   "source": [
    "leads_x = leads_dataset.drop(leads_response_columns, axis=1)\n",
    "leads_y = leads_dataset[leads_response_columns]\n",
    "\n",
    "leads_x_train, leads_x_test, leads_y_train, leads_y_test = train_test_split(leads_x,\n",
    "                                                                            leads_y,\n",
    "                                                                            train_size=0.7,\n",
    "                                                                            test_size=0.3,\n",
    "                                                                            random_state=5050)"
   ]
  },
  {
   "cell_type": "code",
   "execution_count": 5,
   "id": "ced11734",
   "metadata": {},
   "outputs": [],
   "source": [
    "scaler = StandardScaler()\n",
    "scaler = scaler.fit(leads_x_train[leads_numeric_columns])"
   ]
  },
  {
   "cell_type": "code",
   "execution_count": 6,
   "id": "1113f0fc",
   "metadata": {},
   "outputs": [],
   "source": [
    "def pre_process_leads_data(df,\n",
    "                           numeric_columns,\n",
    "                           categorical_columns,\n",
    "                           fitted_scaler,\n",
    "                           train_df_columns = None):\n",
    "\n",
    "    ## create new df with selected columns\n",
    "    df.columns = map(str.lower, df.columns)\n",
    "    _df = df[list(set(numeric_columns + categorical_columns))].copy()\n",
    "    \n",
    "    ## scale the numeric columns with the pre-built scaler\n",
    "    _df[numeric_columns] = fitted_scaler.transform(_df[numeric_columns])\n",
    "         \n",
    "    # First, make categorical text lowercase\n",
    "    _df[categorical_columns] = _df[categorical_columns].apply(lambda x: x.str.lower())\n",
    "    # Next, create one-hot-encoded variables, add to dataframe, drop old columns\n",
    "    _df_dummies = pd.get_dummies(_df[categorical_columns], drop_first=True)\n",
    "    _df = pd.concat([_df, _df_dummies], axis=1)\n",
    "    _df.drop(categorical_columns, axis=1, inplace = True)\n",
    "\n",
    "    if train_df_columns:\n",
    "        _df = _df.reindex(columns=train_df_columns, fill_value=0)\n",
    "    \n",
    "    _df[numeric_columns] = _df[numeric_columns].fillna(_df[numeric_columns].mean())\n",
    "    \n",
    "    return _df"
   ]
  },
  {
   "cell_type": "code",
   "execution_count": 7,
   "id": "2f3d1eab",
   "metadata": {},
   "outputs": [
    {
     "data": {
      "text/html": [
       "<div>\n",
       "<style scoped>\n",
       "    .dataframe tbody tr th:only-of-type {\n",
       "        vertical-align: middle;\n",
       "    }\n",
       "\n",
       "    .dataframe tbody tr th {\n",
       "        vertical-align: top;\n",
       "    }\n",
       "\n",
       "    .dataframe thead th {\n",
       "        text-align: right;\n",
       "    }\n",
       "</style>\n",
       "<table border=\"1\" class=\"dataframe\">\n",
       "  <thead>\n",
       "    <tr style=\"text-align: right;\">\n",
       "      <th></th>\n",
       "      <th>converted</th>\n",
       "    </tr>\n",
       "  </thead>\n",
       "  <tbody>\n",
       "    <tr>\n",
       "      <th>5597</th>\n",
       "      <td>1</td>\n",
       "    </tr>\n",
       "    <tr>\n",
       "      <th>3518</th>\n",
       "      <td>0</td>\n",
       "    </tr>\n",
       "    <tr>\n",
       "      <th>1228</th>\n",
       "      <td>0</td>\n",
       "    </tr>\n",
       "    <tr>\n",
       "      <th>1059</th>\n",
       "      <td>0</td>\n",
       "    </tr>\n",
       "    <tr>\n",
       "      <th>7222</th>\n",
       "      <td>1</td>\n",
       "    </tr>\n",
       "    <tr>\n",
       "      <th>...</th>\n",
       "      <td>...</td>\n",
       "    </tr>\n",
       "    <tr>\n",
       "      <th>6043</th>\n",
       "      <td>0</td>\n",
       "    </tr>\n",
       "    <tr>\n",
       "      <th>919</th>\n",
       "      <td>0</td>\n",
       "    </tr>\n",
       "    <tr>\n",
       "      <th>4512</th>\n",
       "      <td>1</td>\n",
       "    </tr>\n",
       "    <tr>\n",
       "      <th>1635</th>\n",
       "      <td>0</td>\n",
       "    </tr>\n",
       "    <tr>\n",
       "      <th>6829</th>\n",
       "      <td>1</td>\n",
       "    </tr>\n",
       "  </tbody>\n",
       "</table>\n",
       "<p>2772 rows × 1 columns</p>\n",
       "</div>"
      ],
      "text/plain": [
       "      converted\n",
       "5597          1\n",
       "3518          0\n",
       "1228          0\n",
       "1059          0\n",
       "7222          1\n",
       "...         ...\n",
       "6043          0\n",
       "919           0\n",
       "4512          1\n",
       "1635          0\n",
       "6829          1\n",
       "\n",
       "[2772 rows x 1 columns]"
      ]
     },
     "execution_count": 7,
     "metadata": {},
     "output_type": "execute_result"
    }
   ],
   "source": [
    "leads_x_train_clean = pre_process_leads_data(df = leads_x_train,\n",
    "                                            numeric_columns = leads_numeric_columns,\n",
    "                                            categorical_columns = leads_categorical_columns,\n",
    "                                            fitted_scaler = scaler)\n",
    "\n",
    "leads_x_test_clean = pre_process_leads_data(df = leads_x_test,\n",
    "                                           numeric_columns = leads_numeric_columns,\n",
    "                                           categorical_columns = leads_categorical_columns,\n",
    "                                           fitted_scaler = scaler,\n",
    "                                           train_df_columns = leads_x_train_clean.columns.tolist())\n",
    "leads_y_test"
   ]
  },
  {
   "cell_type": "code",
   "execution_count": 8,
   "id": "4f5f3f50",
   "metadata": {},
   "outputs": [
    {
     "data": {
      "text/html": [
       "<style>#sk-container-id-1 {color: black;}#sk-container-id-1 pre{padding: 0;}#sk-container-id-1 div.sk-toggleable {background-color: white;}#sk-container-id-1 label.sk-toggleable__label {cursor: pointer;display: block;width: 100%;margin-bottom: 0;padding: 0.3em;box-sizing: border-box;text-align: center;}#sk-container-id-1 label.sk-toggleable__label-arrow:before {content: \"▸\";float: left;margin-right: 0.25em;color: #696969;}#sk-container-id-1 label.sk-toggleable__label-arrow:hover:before {color: black;}#sk-container-id-1 div.sk-estimator:hover label.sk-toggleable__label-arrow:before {color: black;}#sk-container-id-1 div.sk-toggleable__content {max-height: 0;max-width: 0;overflow: hidden;text-align: left;background-color: #f0f8ff;}#sk-container-id-1 div.sk-toggleable__content pre {margin: 0.2em;color: black;border-radius: 0.25em;background-color: #f0f8ff;}#sk-container-id-1 input.sk-toggleable__control:checked~div.sk-toggleable__content {max-height: 200px;max-width: 100%;overflow: auto;}#sk-container-id-1 input.sk-toggleable__control:checked~label.sk-toggleable__label-arrow:before {content: \"▾\";}#sk-container-id-1 div.sk-estimator input.sk-toggleable__control:checked~label.sk-toggleable__label {background-color: #d4ebff;}#sk-container-id-1 div.sk-label input.sk-toggleable__control:checked~label.sk-toggleable__label {background-color: #d4ebff;}#sk-container-id-1 input.sk-hidden--visually {border: 0;clip: rect(1px 1px 1px 1px);clip: rect(1px, 1px, 1px, 1px);height: 1px;margin: -1px;overflow: hidden;padding: 0;position: absolute;width: 1px;}#sk-container-id-1 div.sk-estimator {font-family: monospace;background-color: #f0f8ff;border: 1px dotted black;border-radius: 0.25em;box-sizing: border-box;margin-bottom: 0.5em;}#sk-container-id-1 div.sk-estimator:hover {background-color: #d4ebff;}#sk-container-id-1 div.sk-parallel-item::after {content: \"\";width: 100%;border-bottom: 1px solid gray;flex-grow: 1;}#sk-container-id-1 div.sk-label:hover label.sk-toggleable__label {background-color: #d4ebff;}#sk-container-id-1 div.sk-serial::before {content: \"\";position: absolute;border-left: 1px solid gray;box-sizing: border-box;top: 0;bottom: 0;left: 50%;z-index: 0;}#sk-container-id-1 div.sk-serial {display: flex;flex-direction: column;align-items: center;background-color: white;padding-right: 0.2em;padding-left: 0.2em;position: relative;}#sk-container-id-1 div.sk-item {position: relative;z-index: 1;}#sk-container-id-1 div.sk-parallel {display: flex;align-items: stretch;justify-content: center;background-color: white;position: relative;}#sk-container-id-1 div.sk-item::before, #sk-container-id-1 div.sk-parallel-item::before {content: \"\";position: absolute;border-left: 1px solid gray;box-sizing: border-box;top: 0;bottom: 0;left: 50%;z-index: -1;}#sk-container-id-1 div.sk-parallel-item {display: flex;flex-direction: column;z-index: 1;position: relative;background-color: white;}#sk-container-id-1 div.sk-parallel-item:first-child::after {align-self: flex-end;width: 50%;}#sk-container-id-1 div.sk-parallel-item:last-child::after {align-self: flex-start;width: 50%;}#sk-container-id-1 div.sk-parallel-item:only-child::after {width: 0;}#sk-container-id-1 div.sk-dashed-wrapped {border: 1px dashed gray;margin: 0 0.4em 0.5em 0.4em;box-sizing: border-box;padding-bottom: 0.4em;background-color: white;}#sk-container-id-1 div.sk-label label {font-family: monospace;font-weight: bold;display: inline-block;line-height: 1.2em;}#sk-container-id-1 div.sk-label-container {text-align: center;}#sk-container-id-1 div.sk-container {/* jupyter's `normalize.less` sets `[hidden] { display: none; }` but bootstrap.min.css set `[hidden] { display: none !important; }` so we also need the `!important` here to be able to override the default hidden behavior on the sphinx rendered scikit-learn.org. See: https://github.com/scikit-learn/scikit-learn/issues/21755 */display: inline-block !important;position: relative;}#sk-container-id-1 div.sk-text-repr-fallback {display: none;}</style><div id=\"sk-container-id-1\" class=\"sk-top-container\"><div class=\"sk-text-repr-fallback\"><pre>RandomForestClassifier(min_samples_split=4)</pre><b>In a Jupyter environment, please rerun this cell to show the HTML representation or trust the notebook. <br />On GitHub, the HTML representation is unable to render, please try loading this page with nbviewer.org.</b></div><div class=\"sk-container\" hidden><div class=\"sk-item\"><div class=\"sk-estimator sk-toggleable\"><input class=\"sk-toggleable__control sk-hidden--visually\" id=\"sk-estimator-id-1\" type=\"checkbox\" checked><label for=\"sk-estimator-id-1\" class=\"sk-toggleable__label sk-toggleable__label-arrow\">RandomForestClassifier</label><div class=\"sk-toggleable__content\"><pre>RandomForestClassifier(min_samples_split=4)</pre></div></div></div></div></div>"
      ],
      "text/plain": [
       "RandomForestClassifier(min_samples_split=4)"
      ]
     },
     "execution_count": 8,
     "metadata": {},
     "output_type": "execute_result"
    }
   ],
   "source": [
    "num_estimators = 100\n",
    "min_samples = 4\n",
    "\n",
    "rf = RandomForestClassifier(n_estimators=num_estimators,\n",
    "                            min_samples_split=min_samples)\n",
    "rf.fit(leads_x_train_clean, leads_y_train.values.ravel())"
   ]
  },
  {
   "cell_type": "code",
   "execution_count": 9,
   "id": "35e98fd5",
   "metadata": {},
   "outputs": [
    {
     "name": "stdout",
     "output_type": "stream",
     "text": [
      "0.8243145743145743\n",
      "0.8076734235813986\n"
     ]
    }
   ],
   "source": [
    "leads_y_test_predicted = rf.predict(leads_x_test_clean)\n",
    "\n",
    "accuracy = metrics.accuracy_score(leads_y_test, leads_y_test_predicted)\n",
    "auc_score = metrics.roc_auc_score(leads_y_test, leads_y_test_predicted)\n",
    "\n",
    "print(accuracy)\n",
    "print(auc_score)"
   ]
  },
  {
   "cell_type": "code",
   "execution_count": 11,
   "id": "3d6a9579",
   "metadata": {},
   "outputs": [
    {
     "data": {
      "text/plain": [
       "<Experiment: artifact_location='./mlruns/956479994013149774', creation_time=None, experiment_id='956479994013149774', last_update_time=None, lifecycle_stage='active', name='LeadScoringProcessedNew2', tags={}>"
      ]
     },
     "execution_count": 11,
     "metadata": {},
     "output_type": "execute_result"
    }
   ],
   "source": [
    "mlflow.set_tracking_uri(\"http://localhost:5000\")\n",
    "mlflow.set_experiment(\"LeadScoringProcessedNew2\")"
   ]
  },
  {
   "cell_type": "code",
   "execution_count": 12,
   "id": "f2aba153",
   "metadata": {},
   "outputs": [],
   "source": [
    "class leadsModel(mlflow.pyfunc.PythonModel):\n",
    "   \n",
    "    ## defining objects needed for leadsModel prediction. \n",
    "    def __init__(self,\n",
    "                 train_df_columns,\n",
    "                 model,\n",
    "                 leads_categorical_columns,\n",
    "                 leads_numeric_columns,\n",
    "                 fitted_scaler,\n",
    "                 pre_process_leads_data):\n",
    "        \n",
    "        ## Setting up all needed objects\n",
    "        self.train_df_columns = train_df_columns\n",
    "        self.model = model\n",
    "        self.leads_categorical_columns = leads_categorical_columns\n",
    "        self.leads_numeric_columns = leads_numeric_columns\n",
    "        self.fitted_scaler = fitted_scaler\n",
    "        self.pre_process_leads_data = pre_process_leads_data\n",
    "    \n",
    "    ## define function with processing and feeding data into prediction at the end\n",
    "    def predict(self,context,model_input):\n",
    "        \n",
    "        # make sure all inputted columns are lowercase\n",
    "        model_input.columns = map(str.lower, model_input.columns)\n",
    "        \n",
    "        # run inputted dataset through our processing function\n",
    "        # note: we are excluding the response columns here since not needed for deploy\n",
    "        model_input_processed = self.pre_process_leads_data(\n",
    "                                   df = model_input,\n",
    "                                   numeric_columns = self.leads_numeric_columns,\n",
    "                                   categorical_columns = self.leads_categorical_columns,\n",
    "                                   fitted_scaler = self.fitted_scaler,\n",
    "                                   train_df_columns = self.train_df_columns)       \n",
    "        \n",
    "        # finally input the cleaned/adjusted dataset into our model for prediction\n",
    "        return self.model.predict(model_input_processed)"
   ]
  },
  {
   "cell_type": "code",
   "execution_count": 13,
   "id": "18739d91",
   "metadata": {},
   "outputs": [],
   "source": [
    "mlflow_conda_env = {\n",
    " 'name': 'mlflow_env_1',\n",
    " 'channels': ['defaults'],\n",
    " 'dependencies': ['python=3.11.4', {'pip': ['mlflow==2.6.0','scikit-learn==1.3.0','cloudpickle==2.2.1']}]\n",
    "}"
   ]
  },
  {
   "cell_type": "code",
   "execution_count": 14,
   "id": "902215b6",
   "metadata": {},
   "outputs": [
    {
     "name": "stdout",
     "output_type": "stream",
     "text": [
      "[0]\n"
     ]
    }
   ],
   "source": [
    "m = leadsModel(train_df_columns = leads_x_train_clean.columns.tolist(),\n",
    "                                  model = rf,\n",
    "                                  leads_categorical_columns = leads_categorical_columns,\n",
    "                                  leads_numeric_columns = leads_numeric_columns,\n",
    "                                  fitted_scaler = scaler,\n",
    "                                  pre_process_leads_data = pre_process_leads_data)\n",
    "model_input = leads_x.head(1)\n",
    "model_output = m.predict(None,model_input)\n",
    "print(model_output)"
   ]
  },
  {
   "cell_type": "code",
   "execution_count": 15,
   "id": "a398e008",
   "metadata": {},
   "outputs": [
    {
     "name": "stderr",
     "output_type": "stream",
     "text": [
      "/Users/kevinpeng/anaconda3/envs/mlflow_env_1/lib/python3.11/site-packages/_distutils_hack/__init__.py:33: UserWarning: Setuptools is replacing distutils.\n",
      "  warnings.warn(\"Setuptools is replacing distutils.\")\n"
     ]
    }
   ],
   "source": [
    "with mlflow.start_run(run_name=\"Leads Model with Processing v1\") as run:\n",
    "    # log the parameters that we defined for the model training\n",
    "    mlflow.log_param(\"num_estimators\", num_estimators)\n",
    "    mlflow.log_param(\"min_samples\", min_samples)\n",
    "    \n",
    "    # log the performance metrics that we calculated earlier\n",
    "    mlflow.log_metric(\"accuracy\", accuracy)\n",
    "    mlflow.log_metric(\"auc_score\", auc_score)\n",
    "    \n",
    "    # log model with all objects referenced in the leadsModel class\n",
    "    mlflow.pyfunc.log_model(\n",
    "        artifact_path = \"leads_pyfunc\",\n",
    "        python_model = leadsModel(train_df_columns = leads_x_train_clean.columns.tolist(),\n",
    "                                  model = rf,\n",
    "                                  leads_categorical_columns = leads_categorical_columns,\n",
    "                                  leads_numeric_columns = leads_numeric_columns,\n",
    "                                  fitted_scaler = scaler,\n",
    "                                  pre_process_leads_data = pre_process_leads_data\n",
    "                                 ),\n",
    "        conda_env = mlflow_conda_env\n",
    "    )\n",
    "    \n",
    "    # save run_id and experiment_id for deployment\n",
    "    run_id = run.info.run_uuid\n",
    "    experiment_id = run.info.experiment_id\n",
    "    \n",
    "    # end the mlflow run!\n",
    "    mlflow.end_run()"
   ]
  },
  {
   "cell_type": "code",
   "execution_count": 17,
   "id": "226ce027",
   "metadata": {},
   "outputs": [
    {
     "data": {
      "text/plain": [
       "'826da2e2e8554bd98225f660d42c107d'"
      ]
     },
     "execution_count": 17,
     "metadata": {},
     "output_type": "execute_result"
    }
   ],
   "source": [
    "run_id"
   ]
  },
  {
   "cell_type": "code",
   "execution_count": 21,
   "id": "0faafcc0",
   "metadata": {},
   "outputs": [
    {
     "name": "stderr",
     "output_type": "stream",
     "text": [
      "2023/09/06 23:38:36 INFO mlflow.sagemaker: Using the python_function flavor for deployment!\n",
      "2023/09/06 23:38:36 INFO mlflow.sagemaker: No model data bucket specified, using the default bucket\n",
      "2023/09/06 23:38:37 INFO mlflow.sagemaker: Default bucket `mlflow-sagemaker-us-east-1-166772677246` already exists. Skipping creation.\n",
      "2023/09/06 23:38:50 INFO mlflow.sagemaker: tag response: {'ResponseMetadata': {'RequestId': 'EPMWZ08ZB6NC3TYJ', 'HostId': 'A58GXtHRFbTlJ0odmhAmCswinIVnK9Wt82PbxRXTEvsbkQXSSd0bE2TG/x1GElw3sD/FPD5lHNE=', 'HTTPStatusCode': 200, 'HTTPHeaders': {'x-amz-id-2': 'A58GXtHRFbTlJ0odmhAmCswinIVnK9Wt82PbxRXTEvsbkQXSSd0bE2TG/x1GElw3sD/FPD5lHNE=', 'x-amz-request-id': 'EPMWZ08ZB6NC3TYJ', 'date': 'Thu, 07 Sep 2023 06:38:51 GMT', 'server': 'AmazonS3', 'content-length': '0'}, 'RetryAttempts': 0}}\n",
      "2023/09/06 23:38:50 INFO mlflow.sagemaker: Creating new endpoint with name: my-deployment-2 ...\n",
      "2023/09/06 23:38:51 INFO mlflow.sagemaker: Created model with arn: arn:aws:sagemaker:us-east-1:166772677246:model/my-deployment-2-model-gyzgf79vsfsudvzwd74b7g\n",
      "2023/09/06 23:38:51 INFO mlflow.sagemaker: Created endpoint configuration with arn: arn:aws:sagemaker:us-east-1:166772677246:endpoint-config/my-deployment-2-config-kh1-pdnksfaflkm3i6em0g\n",
      "2023/09/06 23:38:51 INFO mlflow.sagemaker: Created endpoint with arn: arn:aws:sagemaker:us-east-1:166772677246:endpoint/my-deployment-2\n",
      "2023/09/06 23:38:51 INFO mlflow.sagemaker: Waiting for the deployment operation to complete...\n",
      "2023/09/06 23:38:52 INFO mlflow.sagemaker: Waiting for endpoint to reach the \"InService\" state. Current endpoint status: \"Creating\"\n",
      "2023/09/06 23:39:12 INFO mlflow.sagemaker: Waiting for endpoint to reach the \"InService\" state. Current endpoint status: \"Creating\"\n",
      "2023/09/06 23:39:33 INFO mlflow.sagemaker: Waiting for endpoint to reach the \"InService\" state. Current endpoint status: \"Creating\"\n",
      "2023/09/06 23:39:53 INFO mlflow.sagemaker: Waiting for endpoint to reach the \"InService\" state. Current endpoint status: \"Creating\"\n",
      "2023/09/06 23:40:14 INFO mlflow.sagemaker: Waiting for endpoint to reach the \"InService\" state. Current endpoint status: \"Creating\"\n",
      "2023/09/06 23:40:35 INFO mlflow.sagemaker: Waiting for endpoint to reach the \"InService\" state. Current endpoint status: \"Creating\"\n",
      "2023/09/06 23:40:55 INFO mlflow.sagemaker: Waiting for endpoint to reach the \"InService\" state. Current endpoint status: \"Creating\"\n",
      "2023/09/06 23:41:16 INFO mlflow.sagemaker: Waiting for endpoint to reach the \"InService\" state. Current endpoint status: \"Creating\"\n",
      "2023/09/06 23:41:36 INFO mlflow.sagemaker: Waiting for endpoint to reach the \"InService\" state. Current endpoint status: \"Creating\"\n",
      "2023/09/06 23:41:57 INFO mlflow.sagemaker: Waiting for endpoint to reach the \"InService\" state. Current endpoint status: \"Creating\"\n",
      "2023/09/06 23:42:18 INFO mlflow.sagemaker: Waiting for endpoint to reach the \"InService\" state. Current endpoint status: \"Creating\"\n",
      "2023/09/06 23:42:39 INFO mlflow.sagemaker: Waiting for endpoint to reach the \"InService\" state. Current endpoint status: \"Creating\"\n",
      "2023/09/06 23:43:00 INFO mlflow.sagemaker: Waiting for endpoint to reach the \"InService\" state. Current endpoint status: \"Creating\"\n",
      "2023/09/06 23:43:20 INFO mlflow.sagemaker: Waiting for endpoint to reach the \"InService\" state. Current endpoint status: \"Creating\"\n",
      "2023/09/06 23:43:41 INFO mlflow.sagemaker: Waiting for endpoint to reach the \"InService\" state. Current endpoint status: \"Creating\"\n"
     ]
    },
    {
     "ename": "MlflowException",
     "evalue": "The deployment operation failed with the following error message: \"Timed out after waiting 304.97485733032227 seconds for the operation to complete. This operation may still be in progress. Please check the AWS console for more information.\"",
     "output_type": "error",
     "traceback": [
      "\u001b[0;31m---------------------------------------------------------------------------\u001b[0m",
      "\u001b[0;31mMlflowException\u001b[0m                           Traceback (most recent call last)",
      "Cell \u001b[0;32mIn[21], line 32\u001b[0m\n\u001b[1;32m     23\u001b[0m config \u001b[38;5;241m=\u001b[39m \u001b[38;5;28mdict\u001b[39m(\n\u001b[1;32m     24\u001b[0m     execution_role_arn\u001b[38;5;241m=\u001b[39msagemaker_arn,\n\u001b[1;32m     25\u001b[0m     image_url\u001b[38;5;241m=\u001b[39mimage_url,\n\u001b[0;32m   (...)\u001b[0m\n\u001b[1;32m     28\u001b[0m     timeout_seconds\u001b[38;5;241m=\u001b[39m\u001b[38;5;241m300\u001b[39m,\n\u001b[1;32m     29\u001b[0m )\n\u001b[1;32m     31\u001b[0m client \u001b[38;5;241m=\u001b[39m get_deploy_client(\u001b[38;5;124m\"\u001b[39m\u001b[38;5;124msagemaker\u001b[39m\u001b[38;5;124m\"\u001b[39m)\n\u001b[0;32m---> 32\u001b[0m client\u001b[38;5;241m.\u001b[39mcreate_deployment(\n\u001b[1;32m     33\u001b[0m     \u001b[38;5;124m\"\u001b[39m\u001b[38;5;124mmy-deployment-2\u001b[39m\u001b[38;5;124m\"\u001b[39m,\n\u001b[1;32m     34\u001b[0m     model_uri\u001b[38;5;241m=\u001b[39mmodel_uri,\n\u001b[1;32m     35\u001b[0m     flavor\u001b[38;5;241m=\u001b[39m\u001b[38;5;124m\"\u001b[39m\u001b[38;5;124mpython_function\u001b[39m\u001b[38;5;124m\"\u001b[39m,\n\u001b[1;32m     36\u001b[0m     config\u001b[38;5;241m=\u001b[39mconfig,\n\u001b[1;32m     37\u001b[0m )\n",
      "File \u001b[0;32m~/anaconda3/envs/mlflow_env_1/lib/python3.11/site-packages/mlflow/sagemaker/__init__.py:2206\u001b[0m, in \u001b[0;36mSageMakerDeploymentClient.create_deployment\u001b[0;34m(self, name, model_uri, flavor, config, endpoint)\u001b[0m\n\u001b[1;32m   2203\u001b[0m \u001b[38;5;28;01mif\u001b[39;00m config:\n\u001b[1;32m   2204\u001b[0m     \u001b[38;5;28mself\u001b[39m\u001b[38;5;241m.\u001b[39m_apply_custom_config(final_config, config)\n\u001b[0;32m-> 2206\u001b[0m app_name, flavor \u001b[38;5;241m=\u001b[39m _deploy(\n\u001b[1;32m   2207\u001b[0m     app_name\u001b[38;5;241m=\u001b[39mname,\n\u001b[1;32m   2208\u001b[0m     model_uri\u001b[38;5;241m=\u001b[39mmodel_uri,\n\u001b[1;32m   2209\u001b[0m     flavor\u001b[38;5;241m=\u001b[39mflavor,\n\u001b[1;32m   2210\u001b[0m     execution_role_arn\u001b[38;5;241m=\u001b[39mfinal_config[\u001b[38;5;124m\"\u001b[39m\u001b[38;5;124mexecution_role_arn\u001b[39m\u001b[38;5;124m\"\u001b[39m],\n\u001b[1;32m   2211\u001b[0m     assume_role_arn\u001b[38;5;241m=\u001b[39mfinal_config[\u001b[38;5;124m\"\u001b[39m\u001b[38;5;124massume_role_arn\u001b[39m\u001b[38;5;124m\"\u001b[39m],\n\u001b[1;32m   2212\u001b[0m     bucket\u001b[38;5;241m=\u001b[39mfinal_config[\u001b[38;5;124m\"\u001b[39m\u001b[38;5;124mbucket\u001b[39m\u001b[38;5;124m\"\u001b[39m],\n\u001b[1;32m   2213\u001b[0m     image_url\u001b[38;5;241m=\u001b[39mfinal_config[\u001b[38;5;124m\"\u001b[39m\u001b[38;5;124mimage_url\u001b[39m\u001b[38;5;124m\"\u001b[39m],\n\u001b[1;32m   2214\u001b[0m     region_name\u001b[38;5;241m=\u001b[39mfinal_config[\u001b[38;5;124m\"\u001b[39m\u001b[38;5;124mregion_name\u001b[39m\u001b[38;5;124m\"\u001b[39m],\n\u001b[1;32m   2215\u001b[0m     mode\u001b[38;5;241m=\u001b[39mmlflow\u001b[38;5;241m.\u001b[39msagemaker\u001b[38;5;241m.\u001b[39mDEPLOYMENT_MODE_CREATE,\n\u001b[1;32m   2216\u001b[0m     archive\u001b[38;5;241m=\u001b[39mfinal_config[\u001b[38;5;124m\"\u001b[39m\u001b[38;5;124marchive\u001b[39m\u001b[38;5;124m\"\u001b[39m],\n\u001b[1;32m   2217\u001b[0m     instance_type\u001b[38;5;241m=\u001b[39mfinal_config[\u001b[38;5;124m\"\u001b[39m\u001b[38;5;124minstance_type\u001b[39m\u001b[38;5;124m\"\u001b[39m],\n\u001b[1;32m   2218\u001b[0m     instance_count\u001b[38;5;241m=\u001b[39mfinal_config[\u001b[38;5;124m\"\u001b[39m\u001b[38;5;124minstance_count\u001b[39m\u001b[38;5;124m\"\u001b[39m],\n\u001b[1;32m   2219\u001b[0m     vpc_config\u001b[38;5;241m=\u001b[39mfinal_config[\u001b[38;5;124m\"\u001b[39m\u001b[38;5;124mvpc_config\u001b[39m\u001b[38;5;124m\"\u001b[39m],\n\u001b[1;32m   2220\u001b[0m     data_capture_config\u001b[38;5;241m=\u001b[39mfinal_config[\u001b[38;5;124m\"\u001b[39m\u001b[38;5;124mdata_capture_config\u001b[39m\u001b[38;5;124m\"\u001b[39m],\n\u001b[1;32m   2221\u001b[0m     synchronous\u001b[38;5;241m=\u001b[39mfinal_config[\u001b[38;5;124m\"\u001b[39m\u001b[38;5;124msynchronous\u001b[39m\u001b[38;5;124m\"\u001b[39m],\n\u001b[1;32m   2222\u001b[0m     timeout_seconds\u001b[38;5;241m=\u001b[39mfinal_config[\u001b[38;5;124m\"\u001b[39m\u001b[38;5;124mtimeout_seconds\u001b[39m\u001b[38;5;124m\"\u001b[39m],\n\u001b[1;32m   2223\u001b[0m     variant_name\u001b[38;5;241m=\u001b[39mfinal_config[\u001b[38;5;124m\"\u001b[39m\u001b[38;5;124mvariant_name\u001b[39m\u001b[38;5;124m\"\u001b[39m],\n\u001b[1;32m   2224\u001b[0m     async_inference_config\u001b[38;5;241m=\u001b[39mfinal_config[\u001b[38;5;124m\"\u001b[39m\u001b[38;5;124masync_inference_config\u001b[39m\u001b[38;5;124m\"\u001b[39m],\n\u001b[1;32m   2225\u001b[0m     env\u001b[38;5;241m=\u001b[39mfinal_config[\u001b[38;5;124m\"\u001b[39m\u001b[38;5;124menv\u001b[39m\u001b[38;5;124m\"\u001b[39m],\n\u001b[1;32m   2226\u001b[0m     tags\u001b[38;5;241m=\u001b[39mfinal_config[\u001b[38;5;124m\"\u001b[39m\u001b[38;5;124mtags\u001b[39m\u001b[38;5;124m\"\u001b[39m],\n\u001b[1;32m   2227\u001b[0m )\n\u001b[1;32m   2229\u001b[0m \u001b[38;5;28;01mreturn\u001b[39;00m {\u001b[38;5;124m\"\u001b[39m\u001b[38;5;124mname\u001b[39m\u001b[38;5;124m\"\u001b[39m: app_name, \u001b[38;5;124m\"\u001b[39m\u001b[38;5;124mflavor\u001b[39m\u001b[38;5;124m\"\u001b[39m: flavor}\n",
      "File \u001b[0;32m~/anaconda3/envs/mlflow_env_1/lib/python3.11/site-packages/mlflow/sagemaker/__init__.py:456\u001b[0m, in \u001b[0;36m_deploy\u001b[0;34m(app_name, model_uri, execution_role_arn, assume_role_arn, bucket, image_url, region_name, mode, archive, instance_type, instance_count, vpc_config, flavor, synchronous, timeout_seconds, data_capture_config, variant_name, async_inference_config, env, tags)\u001b[0m\n\u001b[1;32m    451\u001b[0m     _logger\u001b[38;5;241m.\u001b[39minfo(\n\u001b[1;32m    452\u001b[0m         \u001b[38;5;124m'\u001b[39m\u001b[38;5;124mThe deployment operation completed successfully with message: \u001b[39m\u001b[38;5;124m\"\u001b[39m\u001b[38;5;132;01m%s\u001b[39;00m\u001b[38;5;124m\"\u001b[39m\u001b[38;5;124m'\u001b[39m,\n\u001b[1;32m    453\u001b[0m         operation_status\u001b[38;5;241m.\u001b[39mmessage,\n\u001b[1;32m    454\u001b[0m     )\n\u001b[1;32m    455\u001b[0m \u001b[38;5;28;01melse\u001b[39;00m:\n\u001b[0;32m--> 456\u001b[0m     \u001b[38;5;28;01mraise\u001b[39;00m MlflowException(\n\u001b[1;32m    457\u001b[0m         \u001b[38;5;124m\"\u001b[39m\u001b[38;5;124mThe deployment operation failed with the following error message:\u001b[39m\u001b[38;5;124m\"\u001b[39m\n\u001b[1;32m    458\u001b[0m         \u001b[38;5;124mf\u001b[39m\u001b[38;5;124m'\u001b[39m\u001b[38;5;124m \u001b[39m\u001b[38;5;124m\"\u001b[39m\u001b[38;5;132;01m{\u001b[39;00moperation_status\u001b[38;5;241m.\u001b[39mmessage\u001b[38;5;132;01m}\u001b[39;00m\u001b[38;5;124m\"\u001b[39m\u001b[38;5;124m'\u001b[39m\n\u001b[1;32m    459\u001b[0m     )\n\u001b[1;32m    460\u001b[0m \u001b[38;5;28;01mif\u001b[39;00m \u001b[38;5;129;01mnot\u001b[39;00m archive:\n\u001b[1;32m    461\u001b[0m     deployment_operation\u001b[38;5;241m.\u001b[39mclean_up()\n",
      "\u001b[0;31mMlflowException\u001b[0m: The deployment operation failed with the following error message: \"Timed out after waiting 304.97485733032227 seconds for the operation to complete. This operation may still be in progress. Please check the AWS console for more information.\""
     ]
    }
   ],
   "source": [
    "from mlflow.deployments import get_deploy_client\n",
    "\n",
    "# we pull the run and experiment id's from above to create this mlflow location\n",
    "model_uri = \"mlruns/956479994013149774/826da2e2e8554bd98225f660d42c107d/artifacts/leads_pyfunc\"\n",
    "\n",
    "# The region is chosen, pick whats close to you or your systems!\n",
    "region = \"us-east-1\"\n",
    "# The aws account id can be found in the console\n",
    "aws_account_id = \"166772677246\"\n",
    "# We use these inputs to automatically reference the sagemaker docker container\n",
    "image_url = aws_account_id \\\n",
    "            + \".dkr.ecr.\" \\\n",
    "            + region \\\n",
    "            + \".amazonaws.com/mlflow-pyfunc:2.6.0\"\n",
    "\n",
    "# now we specify the role that we setup for sagemaker in the previous step\n",
    "sagemaker_arn = \"arn:aws:iam::166772677246:role/sagemaker\"\n",
    "\n",
    "\n",
    "# finally, we pick a name for our endpoint within sagemaker\n",
    "endpoint_name = \"leads\" \n",
    "\n",
    "config = dict(\n",
    "    execution_role_arn=sagemaker_arn,\n",
    "    image_url=image_url,\n",
    "    region_name=region,\n",
    "    instance_type=\"ml.t2.medium\",\n",
    "    timeout_seconds=300,\n",
    ")\n",
    "\n",
    "client = get_deploy_client(\"sagemaker\")\n",
    "client.create_deployment(\n",
    "    \"my-deployment-2\",\n",
    "    model_uri=model_uri,\n",
    "    flavor=\"python_function\",\n",
    "    config=config,\n",
    ")"
   ]
  },
  {
   "cell_type": "code",
   "execution_count": 118,
   "id": "ef3b8206",
   "metadata": {},
   "outputs": [
    {
     "name": "stderr",
     "output_type": "stream",
     "text": [
      "2023/09/06 14:34:30 INFO mlflow.pyfunc: To install the dependencies that were used to train the model, run the following command: '%pip install -r /Users/kevinpeng/Desktop/mlruns/956479994013149772/d14f947beff54015bcf17d42229b2d39/artifacts/leads_pyfunc/requirements.txt'.\n"
     ]
    },
    {
     "data": {
      "text/plain": [
       "'/Users/kevinpeng/Desktop/mlruns/956479994013149772/d14f947beff54015bcf17d42229b2d39/artifacts/leads_pyfunc/requirements.txt'"
      ]
     },
     "execution_count": 118,
     "metadata": {},
     "output_type": "execute_result"
    }
   ],
   "source": [
    "mlflow.pyfunc.get_model_dependencies(model_uri)"
   ]
  },
  {
   "cell_type": "code",
   "execution_count": null,
   "id": "20cf3365",
   "metadata": {},
   "outputs": [],
   "source": []
  }
 ],
 "metadata": {
  "kernelspec": {
   "display_name": "mlflow_env_1",
   "language": "python",
   "name": "mlflow_env_1"
  },
  "language_info": {
   "codemirror_mode": {
    "name": "ipython",
    "version": 3
   },
   "file_extension": ".py",
   "mimetype": "text/x-python",
   "name": "python",
   "nbconvert_exporter": "python",
   "pygments_lexer": "ipython3",
   "version": "3.11.4"
  }
 },
 "nbformat": 4,
 "nbformat_minor": 5
}
